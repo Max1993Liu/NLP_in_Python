{
 "cells": [
  {
   "cell_type": "code",
   "execution_count": 1,
   "metadata": {
    "collapsed": false
   },
   "outputs": [
    {
     "name": "stdout",
     "output_type": "stream",
     "text": [
      "Number of words in the training set 678377\n",
      "[(u'Sao', u'NC', u'B-LOC'), (u'Paulo', u'VMI', u'I-LOC'), (u'(', u'Fpa', u'O'), (u'Brasil', u'NC', u'B-LOC'), (u')', u'Fpt', u'O'), (u',', u'Fc', u'O'), (u'23', u'Z', u'O'), (u'may', u'NC', u'O'), (u'(', u'Fpa', u'O'), (u'EFECOM', u'NP', u'B-ORG'), (u')', u'Fpt', u'O'), (u'.', u'Fp', u'O')]\n"
     ]
    }
   ],
   "source": [
    "from __future__ import division\n",
    "from nltk.corpus import conll2002\n",
    "print \"Number of words in the training set {}\".format(len(conll2002.iob_words()))\n",
    "print conll2002.iob_sents()[0]\n",
    "train = conll2002.iob_words()\n",
    "train_tags = [x[2] for x in train]"
   ]
  },
  {
   "cell_type": "code",
   "execution_count": 2,
   "metadata": {
    "collapsed": false
   },
   "outputs": [],
   "source": [
    "#calculate the conditional probability\n",
    "from collections import Counter\n",
    "import pickle\n",
    "#because we're using the linear interpotation\n",
    "#all trigram, bigram and unigram probabilities are needed here\n",
    "\n",
    "trigrams, bigrams = [], []\n",
    "# * => representing the start of the document\n",
    "trigrams.append(('*', '*', train[0][2]))\n",
    "trigrams.append(('*', train_tags[0], train_tags[1]))\n",
    "i = 0\n",
    "while i <= len(train_tags) - 3:\n",
    "    trigrams.append((train_tags[i], train_tags[i+1], train_tags[i+2]))\n",
    "    i += 1\n",
    "trigram_counter = Counter(trigrams)\n",
    "\n",
    "#same thing for bigram and unigram\n",
    "bigrams.append(('*', train_tags[0]))\n",
    "i = 0 \n",
    "while i <= len(train_tags) - 3:\n",
    "    bigrams.append((train_tags[i], train_tags[i+1]))\n",
    "    i += 1\n",
    "bigram_counter = Counter(bigrams)\n",
    "\n",
    "unigram_counter = Counter(train_tags)"
   ]
  },
  {
   "cell_type": "code",
   "execution_count": 3,
   "metadata": {
    "collapsed": false
   },
   "outputs": [],
   "source": [
    "#construct the conditional probability\n",
    "#q(s|u,v) = W1 * q'(s|u,v) + W2 * q'(s|u) + W3 * q'(s)\n",
    "#where q' is the maximum likelihood of q\n",
    "#and W1 + W2 + W3 = 1\n",
    "def conditional_prob(trigram, w1=0.6, w2=0.2, w3=0.2):\n",
    "    trigram_total = sum(trigram_counter.values())\n",
    "    bigram_total = sum(bigram_counter.values())\n",
    "    unigram_total = sum(unigram_counter.values())\n",
    "    \n",
    "    trigram_prob = trigram_counter[trigram]/trigram_total\n",
    "    bigram_prob = bigram_counter[(trigram[1], trigram[2])]/bigram_total\n",
    "    unigram_prob = unigram_counter[trigram[2]]/unigram_total\n",
    "    return w1 * trigram_prob + w2 * bigram_prob + w3 * unigram_prob\n"
   ]
  },
  {
   "cell_type": "code",
   "execution_count": 4,
   "metadata": {
    "collapsed": false
   },
   "outputs": [
    {
     "data": {
      "text/plain": [
       "['.ipynb_checkpoints',\n",
       " 'bigram_counter.pkl',\n",
       " 'CalcProb.py',\n",
       " 'CalcProb.pyc',\n",
       " 'CreateCorpus.py',\n",
       " 'CreateCorpus.pyc',\n",
       " 'HMM.py',\n",
       " 'Tagging_HMM.ipynb',\n",
       " 'trigram_counter.pkl',\n",
       " 'unigram_counter.pkl']"
      ]
     },
     "execution_count": 4,
     "metadata": {},
     "output_type": "execute_result"
    }
   ],
   "source": [
    "import os\n",
    "os.listdir('./')"
   ]
  },
  {
   "cell_type": "code",
   "execution_count": 5,
   "metadata": {
    "collapsed": true
   },
   "outputs": [],
   "source": [
    "#calculating the emission probability\n",
    "#probability of word given tag\n",
    "#p(word|tag) = C(word,tag)/C(tag)  C => Count\n",
    "word_tag_count = Counter([(x[0],x[2]) for x in train])\n",
    "tag_count = Counter(train_tags)\n",
    "\n",
    "def emission_prob(word, tag):\n",
    "    return word_tag_count[(word, tag)]/tag_count[tag]"
   ]
  },
  {
   "cell_type": "code",
   "execution_count": 50,
   "metadata": {
    "collapsed": false
   },
   "outputs": [
    {
     "data": {
      "text/plain": [
       "('w', 'g')"
      ]
     },
     "execution_count": 50,
     "metadata": {},
     "output_type": "execute_result"
    }
   ],
   "source": [
    "tuple(test)"
   ]
  }
 ],
 "metadata": {
  "anaconda-cloud": {},
  "kernelspec": {
   "display_name": "Python [Root]",
   "language": "python",
   "name": "Python [Root]"
  },
  "language_info": {
   "codemirror_mode": {
    "name": "ipython",
    "version": 2
   },
   "file_extension": ".py",
   "mimetype": "text/x-python",
   "name": "python",
   "nbconvert_exporter": "python",
   "pygments_lexer": "ipython2",
   "version": "2.7.12"
  }
 },
 "nbformat": 4,
 "nbformat_minor": 0
}
